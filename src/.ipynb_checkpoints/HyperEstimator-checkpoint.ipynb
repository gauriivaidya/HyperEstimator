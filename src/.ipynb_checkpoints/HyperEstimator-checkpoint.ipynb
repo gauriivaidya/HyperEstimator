{
 "cells": [
  {
   "cell_type": "markdown",
   "id": "3e44def3",
   "metadata": {},
   "source": [
    "# Hyperparameter tuning with HyperEstimator\n",
    "\n",
    "This notebook contains the code to tune hyperparameters for a given for Convolutional Neural Networks and set of hyerparameters.\n",
    "\n",
    "In this set of experiments, the hyperparameters used are: {optimiser, learning rate, batch size} for the CNN architecture for image classification. The CNN model used is pretrained using VGG-16 model with pretrained weights.\n",
    "\n",
    "The notebook requires the structure of the folder to be maintained as it is in the respository. \n",
    "\n",
    "The prerequisites are mentioned in the requirements.txt and can be installed by using the command:\n",
    "\n",
    "pip install -r requirements.txt\n",
    "\n",
    "All the requirements are satisfied with Anaconda.\n",
    "\n",
    "The notebook executes with the following steps:\n",
    "\n",
    "1. Generating candidate solutions with Grammatical Evolution\n",
    "2. Estimating the hyperparameters with Linear Regression and Bayesian Optimiser"
   ]
  },
  {
   "cell_type": "markdown",
   "id": "9b7c66de",
   "metadata": {},
   "source": [
    "# Importing all the required libraries"
   ]
  },
  {
   "cell_type": "code",
   "execution_count": 1,
   "id": "56f88a2c",
   "metadata": {},
   "outputs": [],
   "source": [
    "# import packages \n",
    "import numpy as np \n",
    "import pandas as pd \n",
    "from sklearn import preprocessing\n",
    "from sklearn.ensemble import RandomForestClassifier \n",
    "from sklearn import metrics\n",
    "from sklearn.model_selection import cross_val_score\n",
    "from sklearn.preprocessing import StandardScaler \n",
    "from hyperopt import tpe, hp, fmin, STATUS_OK,Trials, space_eval\n",
    "from hyperopt.pyll.base import scope\n",
    "import matplotlib.gridspec as gridspec\n",
    "import pandas as pd\n",
    "from sklearn import linear_model\n",
    "import statsmodels.api as sm\n",
    "\n",
    "import warnings\n",
    "warnings.filterwarnings(\"ignore\")"
   ]
  },
  {
   "cell_type": "markdown",
   "id": "b38ab4ac",
   "metadata": {},
   "source": [
    "# Regressor Model"
   ]
  },
  {
   "cell_type": "code",
   "execution_count": 49,
   "id": "eebc30e7",
   "metadata": {},
   "outputs": [
    {
     "name": "stdout",
     "output_type": "stream",
     "text": [
      "Intercept: \n",
      " 0.125\n",
      "Coefficients: \n",
      " [0. 0. 0. 0.]\n"
     ]
    },
    {
     "data": {
      "text/plain": [
       "0.0009765028989929814"
      ]
     },
     "execution_count": 49,
     "metadata": {},
     "output_type": "execute_result"
    }
   ],
   "source": [
    "# hyperestimator.csv file in contained in src/ folder. In case you are running all the files seperately, replace the appropriate path.\n",
    "df = pd.read_csv('hyperestimator.csv')\n",
    "df.columns =['opt', 'lr', 'batch_size', 'val_acc']\n",
    "\n",
    "# add a new column to define the intercept\n",
    "df['intercept'] = 1\n",
    "\n",
    "# preprocess with label encoder to convert the categorical values to numerical\n",
    "label_encoder = preprocessing.LabelEncoder()\n",
    "df['opt']= label_encoder.fit_transform(df['opt'])\n",
    "X = df[['opt','lr', 'batch_size', 'intercept']] \n",
    "Y = df['val_acc']\n",
    "\n",
    "\n",
    "\n",
    "# with sklearn\n",
    "regr = linear_model.LinearRegression()\n",
    "regr.fit(X, Y)\n",
    "\n",
    "print('Intercept: \\n', regr.intercept_)\n",
    "print('Coefficients: \\n', regr.coef_)\n",
    "\n",
    "# with statsmodels\n",
    "X = sm.add_constant(X)\n",
    " \n",
    "model = sm.OLS(Y, X).fit()"
   ]
  },
  {
   "cell_type": "markdown",
   "id": "7cccefee",
   "metadata": {},
   "source": [
    "# Bayesian Optimiser"
   ]
  },
  {
   "cell_type": "code",
   "execution_count": 51,
   "id": "5d1dbb26",
   "metadata": {},
   "outputs": [],
   "source": [
    "def hyperparameter_tuning(params):\n",
    "    lr = params['lr']\n",
    "    opt = params['opt']\n",
    "    bs = params['bs']\n",
    "    # replace the coefficients in the equation obtained from Linear Regression model\n",
    "    f1 = (model.params['opt'] * opt) + (model.params['lr'] * lr) + (model.params['batch_size'] * bs) + (model.params['intercept'])\n",
    "    return (1/f1)"
   ]
  },
  {
   "cell_type": "code",
   "execution_count": 53,
   "id": "f95e4d36",
   "metadata": {},
   "outputs": [],
   "source": [
    "#define the hyperparameter search space for the \n",
    "space = {\n",
    "\"opt\": hp.choice(\"opt\",df.opt.unique()), #0: adam,1: RMSProp \n",
    "\"lr\": hp.choice(\"lr\",df.lr.unique()),\n",
    "\"bs\": hp.choice(\"bs\", df.batch_size.unique()),\n",
    "}"
   ]
  },
  {
   "cell_type": "code",
   "execution_count": 54,
   "id": "e21f7140",
   "metadata": {},
   "outputs": [
    {
     "name": "stdout",
     "output_type": "stream",
     "text": [
      "100%|███████████████████████████████████████████████████████████| 1000/1000 [00:12<00:00, 79.33trial/s, best loss: 8.0]\n",
      "best: {'bs': 0, 'lr': 0, 'opt': 0}\n"
     ]
    }
   ],
   "source": [
    "from hyperopt import fmin, tpe, hp, STATUS_OK, Trials\n",
    "trials = Trials()\n",
    "best = fmin(fn=hyperparameter_tuning, space=space, algo=tpe.suggest, max_evals=1000, trials=trials)\n",
    "print ('best:', best)"
   ]
  }
 ],
 "metadata": {
  "kernelspec": {
   "display_name": "Python 3 (ipykernel)",
   "language": "python",
   "name": "python3"
  },
  "language_info": {
   "codemirror_mode": {
    "name": "ipython",
    "version": 3
   },
   "file_extension": ".py",
   "mimetype": "text/x-python",
   "name": "python",
   "nbconvert_exporter": "python",
   "pygments_lexer": "ipython3",
   "version": "3.9.7"
  },
  "vscode": {
   "interpreter": {
    "hash": "75408f66b0a0280d613b13685aad59d3c403f27240bf5e04cf519c655e9db1df"
   }
  }
 },
 "nbformat": 4,
 "nbformat_minor": 5
}
